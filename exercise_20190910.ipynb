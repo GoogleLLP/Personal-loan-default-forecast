{
 "cells": [
  {
   "cell_type": "code",
   "execution_count": 54,
   "metadata": {
    "ExecuteTime": {
     "end_time": "2019-09-10T08:23:18.058487Z",
     "start_time": "2019-09-10T08:23:17.981898Z"
    }
   },
   "outputs": [],
   "source": [
    "import os\n",
    "import pandas as pd\n",
    "%matplotlib inline"
   ]
  },
  {
   "cell_type": "code",
   "execution_count": 55,
   "metadata": {
    "ExecuteTime": {
     "end_time": "2019-09-10T08:23:59.890859Z",
     "start_time": "2019-09-10T08:23:59.608087Z"
    }
   },
   "outputs": [],
   "source": [
    "os.chdir(r'.//')\n",
    "\n",
    "import sqlite3 # sqlite3相当于轻量版，更多功能可使用SQLAlchemy\n",
    "\n",
    "con = sqlite3.connect(':memory:') # 数据库连接\n",
    "\n",
    "card=pd.read_csv(r\"card.csv\",encoding=\"gbk\")\n",
    "disp=pd.read_csv(r\"disp.csv\",encoding=\"gbk\")\n",
    "clients=pd.read_csv(r\"clients.csv\",encoding=\"gbk\")\n",
    "\n",
    "card.to_sql('card', con)\n",
    "disp.to_sql('disp', con)\n",
    "clients.to_sql('clients', con)"
   ]
  },
  {
   "cell_type": "code",
   "execution_count": 56,
   "metadata": {
    "ExecuteTime": {
     "end_time": "2019-09-10T08:24:02.067405Z",
     "start_time": "2019-09-10T08:24:02.043246Z"
    }
   },
   "outputs": [],
   "source": [
    "car_sql='''\n",
    "select a.*,c.sex,c.birth_date,c.district_id\n",
    "  from card as a\n",
    "  left join disp as b on a.disp_id=b.disp_id\n",
    "  left join clients as c on b.client_id=c.client_id\n",
    "  where b.type=\"所有者\"\n",
    "'''\n",
    "card_t=pd.read_sql(car_sql, con)"
   ]
  },
  {
   "cell_type": "code",
   "execution_count": 69,
   "metadata": {
    "ExecuteTime": {
     "end_time": "2019-09-10T08:29:31.986927Z",
     "start_time": "2019-09-10T08:29:31.970455Z"
    }
   },
   "outputs": [
    {
     "data": {
      "text/html": [
       "<div>\n",
       "<style scoped>\n",
       "    .dataframe tbody tr th:only-of-type {\n",
       "        vertical-align: middle;\n",
       "    }\n",
       "\n",
       "    .dataframe tbody tr th {\n",
       "        vertical-align: top;\n",
       "    }\n",
       "\n",
       "    .dataframe thead th {\n",
       "        text-align: right;\n",
       "    }\n",
       "</style>\n",
       "<table border=\"1\" class=\"dataframe\">\n",
       "  <thead>\n",
       "    <tr style=\"text-align: right;\">\n",
       "      <th></th>\n",
       "      <th>index</th>\n",
       "      <th>card_id</th>\n",
       "      <th>disp_id</th>\n",
       "      <th>issued</th>\n",
       "      <th>type</th>\n",
       "      <th>sex</th>\n",
       "      <th>birth_date</th>\n",
       "      <th>district_id</th>\n",
       "    </tr>\n",
       "  </thead>\n",
       "  <tbody>\n",
       "    <tr>\n",
       "      <th>0</th>\n",
       "      <td>777</td>\n",
       "      <td>1</td>\n",
       "      <td>9</td>\n",
       "      <td>1998-10-16</td>\n",
       "      <td>金卡</td>\n",
       "      <td>男</td>\n",
       "      <td>1935-10-16</td>\n",
       "      <td>60</td>\n",
       "    </tr>\n",
       "    <tr>\n",
       "      <th>1</th>\n",
       "      <td>508</td>\n",
       "      <td>2</td>\n",
       "      <td>19</td>\n",
       "      <td>1998-03-13</td>\n",
       "      <td>普通卡</td>\n",
       "      <td>男</td>\n",
       "      <td>1942-12-28</td>\n",
       "      <td>47</td>\n",
       "    </tr>\n",
       "    <tr>\n",
       "      <th>2</th>\n",
       "      <td>64</td>\n",
       "      <td>3</td>\n",
       "      <td>41</td>\n",
       "      <td>1995-09-03</td>\n",
       "      <td>金卡</td>\n",
       "      <td>男</td>\n",
       "      <td>1968-08-27</td>\n",
       "      <td>22</td>\n",
       "    </tr>\n",
       "    <tr>\n",
       "      <th>3</th>\n",
       "      <td>840</td>\n",
       "      <td>4</td>\n",
       "      <td>42</td>\n",
       "      <td>1998-11-26</td>\n",
       "      <td>普通卡</td>\n",
       "      <td>男</td>\n",
       "      <td>1935-08-17</td>\n",
       "      <td>68</td>\n",
       "    </tr>\n",
       "    <tr>\n",
       "      <th>4</th>\n",
       "      <td>40</td>\n",
       "      <td>5</td>\n",
       "      <td>51</td>\n",
       "      <td>1995-04-24</td>\n",
       "      <td>青年卡</td>\n",
       "      <td>女</td>\n",
       "      <td>1979-12-02</td>\n",
       "      <td>36</td>\n",
       "    </tr>\n",
       "  </tbody>\n",
       "</table>\n",
       "</div>"
      ],
      "text/plain": [
       "   index  card_id  disp_id      issued type sex  birth_date  district_id\n",
       "0    777        1        9  1998-10-16   金卡   男  1935-10-16           60\n",
       "1    508        2       19  1998-03-13  普通卡   男  1942-12-28           47\n",
       "2     64        3       41  1995-09-03   金卡   男  1968-08-27           22\n",
       "3    840        4       42  1998-11-26  普通卡   男  1935-08-17           68\n",
       "4     40        5       51  1995-04-24  青年卡   女  1979-12-02           36"
      ]
     },
     "execution_count": 69,
     "metadata": {},
     "output_type": "execute_result"
    }
   ],
   "source": [
    "card_t.head()"
   ]
  },
  {
   "cell_type": "code",
   "execution_count": 67,
   "metadata": {
    "ExecuteTime": {
     "end_time": "2019-09-10T08:28:36.357308Z",
     "start_time": "2019-09-10T08:28:36.332013Z"
    }
   },
   "outputs": [
    {
     "data": {
      "text/html": [
       "<div>\n",
       "<style scoped>\n",
       "    .dataframe tbody tr th:only-of-type {\n",
       "        vertical-align: middle;\n",
       "    }\n",
       "\n",
       "    .dataframe tbody tr th {\n",
       "        vertical-align: top;\n",
       "    }\n",
       "\n",
       "    .dataframe thead th {\n",
       "        text-align: right;\n",
       "    }\n",
       "</style>\n",
       "<table border=\"1\" class=\"dataframe\">\n",
       "  <thead>\n",
       "    <tr style=\"text-align: right;\">\n",
       "      <th></th>\n",
       "      <th>card_id</th>\n",
       "      <th>disp_id</th>\n",
       "      <th>issued</th>\n",
       "      <th>type_x</th>\n",
       "      <th>client_id</th>\n",
       "      <th>account_id</th>\n",
       "      <th>type_y</th>\n",
       "    </tr>\n",
       "  </thead>\n",
       "  <tbody>\n",
       "    <tr>\n",
       "      <th>0</th>\n",
       "      <td>1005</td>\n",
       "      <td>9285</td>\n",
       "      <td>1993-11-07</td>\n",
       "      <td>普通卡</td>\n",
       "      <td>9593</td>\n",
       "      <td>7753</td>\n",
       "      <td>所有者</td>\n",
       "    </tr>\n",
       "    <tr>\n",
       "      <th>1</th>\n",
       "      <td>104</td>\n",
       "      <td>588</td>\n",
       "      <td>1994-01-19</td>\n",
       "      <td>普通卡</td>\n",
       "      <td>588</td>\n",
       "      <td>489</td>\n",
       "      <td>所有者</td>\n",
       "    </tr>\n",
       "    <tr>\n",
       "      <th>2</th>\n",
       "      <td>747</td>\n",
       "      <td>4915</td>\n",
       "      <td>1994-02-05</td>\n",
       "      <td>普通卡</td>\n",
       "      <td>4915</td>\n",
       "      <td>4078</td>\n",
       "      <td>所有者</td>\n",
       "    </tr>\n",
       "    <tr>\n",
       "      <th>3</th>\n",
       "      <td>70</td>\n",
       "      <td>439</td>\n",
       "      <td>1994-02-08</td>\n",
       "      <td>普通卡</td>\n",
       "      <td>439</td>\n",
       "      <td>361</td>\n",
       "      <td>所有者</td>\n",
       "    </tr>\n",
       "    <tr>\n",
       "      <th>4</th>\n",
       "      <td>577</td>\n",
       "      <td>3687</td>\n",
       "      <td>1994-02-15</td>\n",
       "      <td>普通卡</td>\n",
       "      <td>3687</td>\n",
       "      <td>3050</td>\n",
       "      <td>所有者</td>\n",
       "    </tr>\n",
       "  </tbody>\n",
       "</table>\n",
       "</div>"
      ],
      "text/plain": [
       "   card_id  disp_id      issued type_x  client_id  account_id type_y\n",
       "0     1005     9285  1993-11-07    普通卡       9593        7753    所有者\n",
       "1      104      588  1994-01-19    普通卡        588         489    所有者\n",
       "2      747     4915  1994-02-05    普通卡       4915        4078    所有者\n",
       "3       70      439  1994-02-08    普通卡        439         361    所有者\n",
       "4      577     3687  1994-02-15    普通卡       3687        3050    所有者"
      ]
     },
     "execution_count": 67,
     "metadata": {},
     "output_type": "execute_result"
    }
   ],
   "source": [
    "c1 = pd.merge(left = card, right= disp, on='disp_id')\n",
    "c1.head()"
   ]
  },
  {
   "cell_type": "code",
   "execution_count": 71,
   "metadata": {
    "ExecuteTime": {
     "end_time": "2019-09-10T08:30:16.019545Z",
     "start_time": "2019-09-10T08:30:15.987669Z"
    }
   },
   "outputs": [
    {
     "data": {
      "text/html": [
       "<div>\n",
       "<style scoped>\n",
       "    .dataframe tbody tr th:only-of-type {\n",
       "        vertical-align: middle;\n",
       "    }\n",
       "\n",
       "    .dataframe tbody tr th {\n",
       "        vertical-align: top;\n",
       "    }\n",
       "\n",
       "    .dataframe thead th {\n",
       "        text-align: right;\n",
       "    }\n",
       "</style>\n",
       "<table border=\"1\" class=\"dataframe\">\n",
       "  <thead>\n",
       "    <tr style=\"text-align: right;\">\n",
       "      <th></th>\n",
       "      <th>card_id</th>\n",
       "      <th>disp_id</th>\n",
       "      <th>issued</th>\n",
       "      <th>type_x</th>\n",
       "      <th>client_id</th>\n",
       "      <th>account_id</th>\n",
       "      <th>type_y</th>\n",
       "      <th>sex</th>\n",
       "      <th>birth_date</th>\n",
       "      <th>district_id</th>\n",
       "    </tr>\n",
       "  </thead>\n",
       "  <tbody>\n",
       "    <tr>\n",
       "      <th>0</th>\n",
       "      <td>1005</td>\n",
       "      <td>9285</td>\n",
       "      <td>1993-11-07</td>\n",
       "      <td>普通卡</td>\n",
       "      <td>9593</td>\n",
       "      <td>7753</td>\n",
       "      <td>所有者</td>\n",
       "      <td>女</td>\n",
       "      <td>1968-01-28</td>\n",
       "      <td>74</td>\n",
       "    </tr>\n",
       "    <tr>\n",
       "      <th>1</th>\n",
       "      <td>104</td>\n",
       "      <td>588</td>\n",
       "      <td>1994-01-19</td>\n",
       "      <td>普通卡</td>\n",
       "      <td>588</td>\n",
       "      <td>489</td>\n",
       "      <td>所有者</td>\n",
       "      <td>女</td>\n",
       "      <td>1960-10-20</td>\n",
       "      <td>61</td>\n",
       "    </tr>\n",
       "    <tr>\n",
       "      <th>2</th>\n",
       "      <td>747</td>\n",
       "      <td>4915</td>\n",
       "      <td>1994-02-05</td>\n",
       "      <td>普通卡</td>\n",
       "      <td>4915</td>\n",
       "      <td>4078</td>\n",
       "      <td>所有者</td>\n",
       "      <td>男</td>\n",
       "      <td>1963-07-19</td>\n",
       "      <td>40</td>\n",
       "    </tr>\n",
       "    <tr>\n",
       "      <th>3</th>\n",
       "      <td>70</td>\n",
       "      <td>439</td>\n",
       "      <td>1994-02-08</td>\n",
       "      <td>普通卡</td>\n",
       "      <td>439</td>\n",
       "      <td>361</td>\n",
       "      <td>所有者</td>\n",
       "      <td>女</td>\n",
       "      <td>1968-09-12</td>\n",
       "      <td>51</td>\n",
       "    </tr>\n",
       "    <tr>\n",
       "      <th>4</th>\n",
       "      <td>577</td>\n",
       "      <td>3687</td>\n",
       "      <td>1994-02-15</td>\n",
       "      <td>普通卡</td>\n",
       "      <td>3687</td>\n",
       "      <td>3050</td>\n",
       "      <td>所有者</td>\n",
       "      <td>男</td>\n",
       "      <td>1972-02-06</td>\n",
       "      <td>49</td>\n",
       "    </tr>\n",
       "  </tbody>\n",
       "</table>\n",
       "</div>"
      ],
      "text/plain": [
       "   card_id  disp_id      issued type_x  client_id  account_id type_y sex  \\\n",
       "0     1005     9285  1993-11-07    普通卡       9593        7753    所有者   女   \n",
       "1      104      588  1994-01-19    普通卡        588         489    所有者   女   \n",
       "2      747     4915  1994-02-05    普通卡       4915        4078    所有者   男   \n",
       "3       70      439  1994-02-08    普通卡        439         361    所有者   女   \n",
       "4      577     3687  1994-02-15    普通卡       3687        3050    所有者   男   \n",
       "\n",
       "   birth_date  district_id  \n",
       "0  1968-01-28           74  \n",
       "1  1960-10-20           61  \n",
       "2  1963-07-19           40  \n",
       "3  1968-09-12           51  \n",
       "4  1972-02-06           49  "
      ]
     },
     "execution_count": 71,
     "metadata": {},
     "output_type": "execute_result"
    }
   ],
   "source": [
    "c2 = pd.merge(left = c1, right = clients, on='client_id')\n",
    "c2.head()\n",
    "c2 = c2[c2.type_y == '所有者']\n",
    "c2.head()"
   ]
  },
  {
   "cell_type": "code",
   "execution_count": 38,
   "metadata": {
    "ExecuteTime": {
     "end_time": "2019-09-10T05:22:33.960692Z",
     "start_time": "2019-09-10T05:22:33.951839Z"
    }
   },
   "outputs": [],
   "source": [
    "transf1 = {'金卡':'gold', '普通卡':'normal', '青年卡':'young'}\n",
    "card_t.type = card_t.type.apply(lambda x: transf1[x])\n",
    "transf2 = {'男':'male', '女':'female'}\n",
    "card_t.sex = card_t.sex.apply(lambda x: transf2[x])"
   ]
  },
  {
   "cell_type": "code",
   "execution_count": 40,
   "metadata": {
    "ExecuteTime": {
     "end_time": "2019-09-10T05:22:51.769071Z",
     "start_time": "2019-09-10T05:22:51.747857Z"
    }
   },
   "outputs": [
    {
     "data": {
      "text/html": [
       "<div>\n",
       "<style scoped>\n",
       "    .dataframe tbody tr th:only-of-type {\n",
       "        vertical-align: middle;\n",
       "    }\n",
       "\n",
       "    .dataframe tbody tr th {\n",
       "        vertical-align: top;\n",
       "    }\n",
       "\n",
       "    .dataframe thead th {\n",
       "        text-align: right;\n",
       "    }\n",
       "</style>\n",
       "<table border=\"1\" class=\"dataframe\">\n",
       "  <thead>\n",
       "    <tr style=\"text-align: right;\">\n",
       "      <th></th>\n",
       "      <th>index</th>\n",
       "      <th>card_id</th>\n",
       "      <th>disp_id</th>\n",
       "      <th>issued</th>\n",
       "      <th>type</th>\n",
       "      <th>sex</th>\n",
       "      <th>birth_date</th>\n",
       "      <th>district_id</th>\n",
       "    </tr>\n",
       "  </thead>\n",
       "  <tbody>\n",
       "    <tr>\n",
       "      <th>0</th>\n",
       "      <td>777</td>\n",
       "      <td>1</td>\n",
       "      <td>9</td>\n",
       "      <td>1998-10-16</td>\n",
       "      <td>gold</td>\n",
       "      <td>male</td>\n",
       "      <td>1935-10-16</td>\n",
       "      <td>60</td>\n",
       "    </tr>\n",
       "    <tr>\n",
       "      <th>1</th>\n",
       "      <td>508</td>\n",
       "      <td>2</td>\n",
       "      <td>19</td>\n",
       "      <td>1998-03-13</td>\n",
       "      <td>normal</td>\n",
       "      <td>male</td>\n",
       "      <td>1942-12-28</td>\n",
       "      <td>47</td>\n",
       "    </tr>\n",
       "    <tr>\n",
       "      <th>2</th>\n",
       "      <td>64</td>\n",
       "      <td>3</td>\n",
       "      <td>41</td>\n",
       "      <td>1995-09-03</td>\n",
       "      <td>gold</td>\n",
       "      <td>male</td>\n",
       "      <td>1968-08-27</td>\n",
       "      <td>22</td>\n",
       "    </tr>\n",
       "    <tr>\n",
       "      <th>3</th>\n",
       "      <td>840</td>\n",
       "      <td>4</td>\n",
       "      <td>42</td>\n",
       "      <td>1998-11-26</td>\n",
       "      <td>normal</td>\n",
       "      <td>male</td>\n",
       "      <td>1935-08-17</td>\n",
       "      <td>68</td>\n",
       "    </tr>\n",
       "    <tr>\n",
       "      <th>4</th>\n",
       "      <td>40</td>\n",
       "      <td>5</td>\n",
       "      <td>51</td>\n",
       "      <td>1995-04-24</td>\n",
       "      <td>young</td>\n",
       "      <td>female</td>\n",
       "      <td>1979-12-02</td>\n",
       "      <td>36</td>\n",
       "    </tr>\n",
       "  </tbody>\n",
       "</table>\n",
       "</div>"
      ],
      "text/plain": [
       "   index  card_id  disp_id      issued    type     sex  birth_date  \\\n",
       "0    777        1        9  1998-10-16    gold    male  1935-10-16   \n",
       "1    508        2       19  1998-03-13  normal    male  1942-12-28   \n",
       "2     64        3       41  1995-09-03    gold    male  1968-08-27   \n",
       "3    840        4       42  1998-11-26  normal    male  1935-08-17   \n",
       "4     40        5       51  1995-04-24   young  female  1979-12-02   \n",
       "\n",
       "   district_id  \n",
       "0           60  \n",
       "1           47  \n",
       "2           22  \n",
       "3           68  \n",
       "4           36  "
      ]
     },
     "execution_count": 40,
     "metadata": {},
     "output_type": "execute_result"
    }
   ],
   "source": [
    "card_t.head()"
   ]
  },
  {
   "cell_type": "code",
   "execution_count": 41,
   "metadata": {
    "ExecuteTime": {
     "end_time": "2019-09-10T05:22:53.940636Z",
     "start_time": "2019-09-10T05:22:53.934039Z"
    }
   },
   "outputs": [],
   "source": [
    "from pylab import mpl\n",
    "mpl.rcParams['axes.unicode_minus'] = False # 解决保存图像是负号'-'显示为方块的问题"
   ]
  },
  {
   "cell_type": "code",
   "execution_count": 72,
   "metadata": {
    "ExecuteTime": {
     "end_time": "2019-09-10T08:31:18.932698Z",
     "start_time": "2019-09-10T08:31:18.721522Z"
    }
   },
   "outputs": [
    {
     "data": {
      "text/plain": [
       "<matplotlib.axes._subplots.AxesSubplot at 0x1a235c3da0>"
      ]
     },
     "execution_count": 72,
     "metadata": {},
     "output_type": "execute_result"
    },
    {
     "data": {
      "image/png": "[encoded data removed]",
      "text/plain": [
       "<Figure size 432x288 with 1 Axes>"
      ]
     },
     "metadata": {},
     "output_type": "display_data"
    }
   ],
   "source": [
    "#%%#1、发卡趋势\n",
    "#总体发卡趋势\n",
    "from  datetime  import  *  \n",
    "card_t['issued_date']=pd.to_datetime(card_t['issued'])\n",
    "card_t['issued_year']=card_t['issued_date'].map(lambda x:x.year)\n",
    "\n",
    "card_t.card_id.groupby(card_t['issued_year']).count().plot(kind=\"bar\")"
   ]
  },
  {
   "cell_type": "code",
   "execution_count": 43,
   "metadata": {
    "ExecuteTime": {
     "end_time": "2019-09-10T05:22:56.278488Z",
     "start_time": "2019-09-10T05:22:56.155432Z"
    }
   },
   "outputs": [
    {
     "data": {
      "text/plain": [
       "<matplotlib.axes._subplots.AxesSubplot at 0x1a19368828>"
      ]
     },
     "execution_count": 43,
     "metadata": {},
     "output_type": "execute_result"
    },
    {
     "data": {
      "image/png": "[encoded data removed]",
      "text/plain": [
       "<Figure size 432x288 with 1 Axes>"
      ]
     },
     "metadata": {},
     "output_type": "display_data"
    }
   ],
   "source": [
    "#%%#2、不同卡的分布\n",
    "card_t.type.value_counts().plot(kind=\"pie\",autopct='%.1f%%')"
   ]
  },
  {
   "cell_type": "code",
   "execution_count": 44,
   "metadata": {
    "ExecuteTime": {
     "end_time": "2019-09-10T05:22:57.427578Z",
     "start_time": "2019-09-10T05:22:57.165016Z"
    }
   },
   "outputs": [
    {
     "data": {
      "text/plain": [
       "<matplotlib.axes._subplots.AxesSubplot at 0x1a19252a20>"
      ]
     },
     "execution_count": 44,
     "metadata": {},
     "output_type": "execute_result"
    },
    {
     "data": {
      "image/png": "[encoded data removed]",
      "text/plain": [
       "<Figure size 432x288 with 1 Axes>"
      ]
     },
     "metadata": {},
     "output_type": "display_data"
    }
   ],
   "source": [
    "#%%#分类型发卡趋势\n",
    "pd.crosstab(card_t.issued_year,card_t.type).plot(kind = 'bar')"
   ]
  },
  {
   "cell_type": "code",
   "execution_count": 45,
   "metadata": {
    "ExecuteTime": {
     "end_time": "2019-09-10T05:23:04.386172Z",
     "start_time": "2019-09-10T05:23:04.087630Z"
    }
   },
   "outputs": [
    {
     "data": {
      "text/plain": [
       "<matplotlib.axes._subplots.AxesSubplot at 0x1a193b1438>"
      ]
     },
     "execution_count": 45,
     "metadata": {},
     "output_type": "execute_result"
    },
    {
     "data": {
      "image/png": "[encoded data removed]",
      "text/plain": [
       "<Figure size 432x288 with 1 Axes>"
      ]
     },
     "metadata": {},
     "output_type": "display_data"
    }
   ],
   "source": [
    "#%%#分类型发卡占比\n",
    "t1=pd.crosstab(card_t.issued_year,card_t.type)\n",
    "t1[\"sum1\"]=t1.sum(1)\n",
    "t2=t1.div(t1.sum1,axis = 0)\n",
    "t2.drop(\"sum1\",1).plot(kind = 'bar',stacked= True)"
   ]
  },
  {
   "cell_type": "code",
   "execution_count": 46,
   "metadata": {
    "ExecuteTime": {
     "end_time": "2019-09-10T05:23:08.068193Z",
     "start_time": "2019-09-10T05:23:07.917222Z"
    }
   },
   "outputs": [
    {
     "data": {
      "image/png": "[encoded data removed]",
      "text/plain": [
       "<Figure size 432x288 with 1 Axes>"
      ]
     },
     "metadata": {},
     "output_type": "display_data"
    }
   ],
   "source": [
    "#%%面积图\n",
    "import matplotlib.pyplot as plt\n",
    "labels=[\"young\",\"normal\",\"gold\"]\n",
    "y1=t1.loc[:,\"young\"].astype('int')\n",
    "y2=t1.loc[:,\"normal\"].astype('int')\n",
    "y3=t1.loc[:,\"gold\"].astype('int')\n",
    "x=t1.index.astype('int')\n",
    "plt.stackplot(x,y1,y2,y3,labels = labels)\n",
    "plt.title('trend')\n",
    "plt.ylabel('amount')\n",
    "plt.legend(loc = 'upper left')\n",
    "plt.show()"
   ]
  },
  {
   "cell_type": "code",
   "execution_count": 53,
   "metadata": {
    "ExecuteTime": {
     "end_time": "2019-09-10T05:26:20.449311Z",
     "start_time": "2019-09-10T05:26:19.894401Z"
    }
   },
   "outputs": [
    {
     "data": {
      "text/plain": [
       "<matplotlib.axes._subplots.AxesSubplot at 0x1a22ae5be0>"
      ]
     },
     "execution_count": 53,
     "metadata": {},
     "output_type": "execute_result"
    },
    {
     "data": {
      "image/png": "[encoded data removed]",
      "text/plain": [
       "<Figure size 432x288 with 1 Axes>"
      ]
     },
     "metadata": {},
     "output_type": "display_data"
    },
    {
     "data": {
      "image/png": "[encoded data removed]",
      "text/plain": [
       "<Figure size 432x288 with 1 Axes>"
      ]
     },
     "metadata": {},
     "output_type": "display_data"
    }
   ],
   "source": [
    "#%%#3、不同持卡人的性别对比\n",
    "sub_sch=pd.crosstab(card_t.type,card_t.sex)\n",
    "sub_sch.div(sub_sch.sum(1),axis = 0).plot(kind = 'bar',stacked= True)\n",
    "sub_sch.plot(kind = 'bar',stacked= True)"
   ]
  },
  {
   "cell_type": "code",
   "execution_count": 50,
   "metadata": {
    "ExecuteTime": {
     "end_time": "2019-09-10T05:25:48.915986Z",
     "start_time": "2019-09-10T05:25:48.904647Z"
    }
   },
   "outputs": [
    {
     "data": {
      "text/html": [
       "<div>\n",
       "<style scoped>\n",
       "    .dataframe tbody tr th:only-of-type {\n",
       "        vertical-align: middle;\n",
       "    }\n",
       "\n",
       "    .dataframe tbody tr th {\n",
       "        vertical-align: top;\n",
       "    }\n",
       "\n",
       "    .dataframe thead th {\n",
       "        text-align: right;\n",
       "    }\n",
       "</style>\n",
       "<table border=\"1\" class=\"dataframe\">\n",
       "  <thead>\n",
       "    <tr style=\"text-align: right;\">\n",
       "      <th>sex</th>\n",
       "      <th>female</th>\n",
       "      <th>male</th>\n",
       "    </tr>\n",
       "    <tr>\n",
       "      <th>type</th>\n",
       "      <th></th>\n",
       "      <th></th>\n",
       "    </tr>\n",
       "  </thead>\n",
       "  <tbody>\n",
       "    <tr>\n",
       "      <th>gold</th>\n",
       "      <td>35</td>\n",
       "      <td>53</td>\n",
       "    </tr>\n",
       "    <tr>\n",
       "      <th>normal</th>\n",
       "      <td>317</td>\n",
       "      <td>342</td>\n",
       "    </tr>\n",
       "    <tr>\n",
       "      <th>young</th>\n",
       "      <td>71</td>\n",
       "      <td>74</td>\n",
       "    </tr>\n",
       "  </tbody>\n",
       "</table>\n",
       "</div>"
      ],
      "text/plain": [
       "sex     female  male\n",
       "type                \n",
       "gold        35    53\n",
       "normal     317   342\n",
       "young       71    74"
      ]
     },
     "execution_count": 50,
     "metadata": {},
     "output_type": "execute_result"
    }
   ],
   "source": [
    "sub_sch"
   ]
  },
  {
   "cell_type": "code",
   "execution_count": 20,
   "metadata": {
    "ExecuteTime": {
     "end_time": "2019-09-10T05:16:34.308706Z",
     "start_time": "2019-09-10T05:16:33.925685Z"
    }
   },
   "outputs": [
    {
     "data": {
      "text/plain": [
       "<matplotlib.axes._subplots.AxesSubplot at 0x1a1a6449b0>"
      ]
     },
     "execution_count": 20,
     "metadata": {},
     "output_type": "execute_result"
    },
    {
     "data": {
      "image/png": "[encoded data removed]",
      "text/plain": [
       "<Figure size 432x288 with 1 Axes>"
      ]
     },
     "metadata": {},
     "output_type": "display_data"
    },
    {
     "data": {
      "text/plain": [
       "<Figure size 432x288 with 0 Axes>"
      ]
     },
     "metadata": {},
     "output_type": "display_data"
    },
    {
     "data": {
      "image/png": "[encoded data removed]",
      "text/plain": [
       "<Figure size 432x288 with 1 Axes>"
      ]
     },
     "metadata": {},
     "output_type": "display_data"
    }
   ],
   "source": [
    "#%%4、不同类型卡的持卡人在办卡时的平均年龄对比\n",
    "import seaborn as sns\n",
    "import time\n",
    "card_t['age']=(pd.to_datetime(card_t['issued'])-pd.to_datetime(card_t['birth_date']))\n",
    "\n",
    "card_t['age1']=card_t['age'].map(lambda x:x.days/365)\n",
    "sns.boxplot(x = 'type', y = 'age1', data = card_t)\n",
    "plt.figure()\n",
    "card_t.boxplot(column = 'age1', by='type')"
   ]
  },
  {
   "cell_type": "code",
   "execution_count": 13,
   "metadata": {
    "ExecuteTime": {
     "end_time": "2019-09-10T05:14:11.333447Z",
     "start_time": "2019-09-10T05:13:57.861119Z"
    }
   },
   "outputs": [
    {
     "name": "stderr",
     "output_type": "stream",
     "text": [
      "/anaconda3/lib/python3.6/site-packages/IPython/core/interactiveshell.py:2785: DtypeWarning: Columns (8) have mixed types. Specify dtype option on import or set low_memory=False.\n",
      "  interactivity=interactivity, compiler=compiler, result=result)\n",
      "/anaconda3/lib/python3.6/site-packages/pandas/io/sql.py:450: UserWarning: the 'timedelta' type is not supported, and will be written as integer values (ns frequency) to the database.\n",
      "  chunksize=chunksize, dtype=dtype)\n"
     ]
    }
   ],
   "source": [
    "#%%5、不同类型卡的持卡人在办卡前一年内的平均帐户余额对比\n",
    "trans=pd.read_csv(r\"trans.csv\",encoding=\"gbk\")\n",
    "\n",
    "trans.to_sql('trans', con)\n",
    "#%%\n",
    "card_t.to_sql('card_t', con)"
   ]
  },
  {
   "cell_type": "code",
   "execution_count": 14,
   "metadata": {
    "ExecuteTime": {
     "end_time": "2019-09-10T05:14:22.127860Z",
     "start_time": "2019-09-10T05:14:11.804531Z"
    }
   },
   "outputs": [],
   "source": [
    "#%%\n",
    "car_sql='''\n",
    "select a.card_id,a.issued,a.type,c.type as t_type,c.amount,c.balance,c.date as t_date\n",
    "  from card as a\n",
    "  left join disp as b on a.disp_id=b.disp_id\n",
    "  left join trans as c on b.account_id=c.account_id\n",
    "  where b.type=\"所有者\"\n",
    "  order by a.card_id,c.date\n",
    "'''\n",
    "\n",
    "card_t2=pd.read_sql(car_sql, con)\n",
    "#%%\n",
    "card_t2['issued']=pd.to_datetime(card_t2['issued'])\n",
    "card_t2['t_date']=pd.to_datetime(card_t2['t_date'])"
   ]
  },
  {
   "cell_type": "code",
   "execution_count": 15,
   "metadata": {
    "ExecuteTime": {
     "end_time": "2019-09-10T05:14:30.222986Z",
     "start_time": "2019-09-10T05:14:29.612298Z"
    }
   },
   "outputs": [
    {
     "name": "stderr",
     "output_type": "stream",
     "text": [
      "/anaconda3/lib/python3.6/site-packages/ipykernel_launcher.py:11: UserWarning: Boolean Series key will be reindexed to match DataFrame index.\n",
      "  # This is added back by InteractiveShellApp.init_path()\n"
     ]
    }
   ],
   "source": [
    "# ## 将对账户余额进行清洗\n",
    "import datetime\n",
    "card_t2['balance2'] = card_t2['balance'].map(\n",
    "    lambda x: int(''.join(x[1:].split(','))))\n",
    "card_t2['amount2'] = card_t2['amount'].map(\n",
    "    lambda x: int(''.join(x[1:].split(','))))\n",
    "\n",
    "card_t2.head()\n",
    "card_t3 = card_t2[card_t2.issued>card_t2.t_date][\n",
    "    card_t2.issued<card_t2.t_date+datetime.timedelta(days=365)]"
   ]
  },
  {
   "cell_type": "code",
   "execution_count": 16,
   "metadata": {
    "ExecuteTime": {
     "end_time": "2019-09-10T05:14:49.383675Z",
     "start_time": "2019-09-10T05:14:49.134038Z"
    }
   },
   "outputs": [
    {
     "data": {
      "text/plain": [
       "<matplotlib.axes._subplots.AxesSubplot at 0x1a1a493240>"
      ]
     },
     "execution_count": 16,
     "metadata": {},
     "output_type": "execute_result"
    },
    {
     "data": {
      "image/png": "[encoded data removed]",
      "text/plain": [
       "<Figure size 432x288 with 1 Axes>"
      ]
     },
     "metadata": {},
     "output_type": "display_data"
    }
   ],
   "source": [
    "#card_t3[\"avg_balance\"] = card_t3.groupby('card_id')['balance2'].mean()\n",
    "card_t4=card_t3.groupby(['type','card_id'])['balance2'].agg([('avg_balance','mean')])\n",
    "card_t4.to_sql('card_t4', con)\n",
    "#%%\n",
    "card_t5=card_t4.reset_index()\n",
    "#card_t5=pd.read_sql('select * from card_t4', con)\n",
    "sns.boxplot(x = 'type', y = 'avg_balance', data = card_t5)"
   ]
  },
  {
   "cell_type": "code",
   "execution_count": 17,
   "metadata": {
    "ExecuteTime": {
     "end_time": "2019-09-10T05:15:02.021729Z",
     "start_time": "2019-09-10T05:15:01.546491Z"
    }
   },
   "outputs": [
    {
     "data": {
      "text/plain": [
       "<matplotlib.axes._subplots.AxesSubplot at 0x1a236e14e0>"
      ]
     },
     "execution_count": 17,
     "metadata": {},
     "output_type": "execute_result"
    },
    {
     "data": {
      "image/png": "[encoded data removed]",
      "text/plain": [
       "<Figure size 432x288 with 1 Axes>"
      ]
     },
     "metadata": {},
     "output_type": "display_data"
    }
   ],
   "source": [
    "#%%6、不同类型卡的持卡人在办卡前一年内的平均收入对比\n",
    "type_dict = {'借':'out','贷':'income'}\n",
    "card_t3['type1'] = card_t3.t_type.map(type_dict)\n",
    "card_t6= card_t3.groupby(['type','card_id','type1'])[['amount2']].sum()\n",
    "card_t6.head()\n",
    "card_t6.to_sql('card_t6', con)\n",
    "#%%\n",
    "card_t7=card_t6.reset_index()\n",
    "#card_t7=pd.read_sql('select * from card_t6', con)\n",
    "card_t7.to_sql('card_t7', con)\n",
    "card_t8=pd.read_sql('select * from card_t7 where type1=\"income\"', con)\n",
    "# In[13]:\n",
    "sns.boxplot(x = 'type', y = 'amount2', data = card_t8)\n",
    "\n",
    "#%%\n",
    "card_t9=pd.read_sql('select * from card_t7 where type1=\"out\"', con)\n",
    "# In[13]:\n",
    "sns.boxplot(x = 'type', y = 'amount2', data = card_t9)"
   ]
  },
  {
   "cell_type": "code",
   "execution_count": null,
   "metadata": {},
   "outputs": [],
   "source": []
  }
 ],
 "metadata": {
  "kernelspec": {
   "display_name": "Python 3",
   "language": "python",
   "name": "python3"
  },
  "language_info": {
   "codemirror_mode": {
    "name": "ipython",
    "version": 3
   },
   "file_extension": ".py",
   "mimetype": "text/x-python",
   "name": "python",
   "nbconvert_exporter": "python",
   "pygments_lexer": "ipython3",
   "version": "3.7.3"
  },
  "toc": {
   "base_numbering": 1,
   "nav_menu": {},
   "number_sections": true,
   "sideBar": true,
   "skip_h1_title": false,
   "title_cell": "Table of Contents",
   "title_sidebar": "Contents",
   "toc_cell": false,
   "toc_position": {},
   "toc_section_display": true,
   "toc_window_display": false
  },
  "varInspector": {
   "cols": {
    "lenName": 16,
    "lenType": 16,
    "lenVar": 40
   },
   "kernels_config": {
    "python": {
     "delete_cmd_postfix": "",
     "delete_cmd_prefix": "del ",
     "library": "var_list.py",
     "varRefreshCmd": "print(var_dic_list())"
    },
    "r": {
     "delete_cmd_postfix": ") ",
     "delete_cmd_prefix": "rm(",
     "library": "var_list.r",
     "varRefreshCmd": "cat(var_dic_list()) "
    }
   },
   "types_to_exclude": [
    "module",
    "function",
    "builtin_function_or_method",
    "instance",
    "_Feature"
   ],
   "window_display": false
  }
 },
 "nbformat": 4,
 "nbformat_minor": 2
}
