{
 "cells": [
  {
   "cell_type": "code",
   "execution_count": 1,
   "metadata": {
    "ExecuteTime": {
     "end_time": "2019-09-03T04:34:29.380625Z",
     "start_time": "2019-09-03T04:34:20.752330Z"
    }
   },
   "outputs": [
    {
     "name": "stdout",
     "output_type": "stream",
     "text": [
      "district\n",
      "clients\n",
      "accounts\n",
      "loans\n"
     ]
    },
    {
     "name": "stderr",
     "output_type": "stream",
     "text": [
      "/anaconda3/lib/python3.6/site-packages/IPython/core/interactiveshell.py:2785: DtypeWarning: Columns (8) have mixed types. Specify dtype option on import or set low_memory=False.\n",
      "  interactivity=interactivity, compiler=compiler, result=result)\n"
     ]
    },
    {
     "name": "stdout",
     "output_type": "stream",
     "text": [
      "trans\n",
      "card\n",
      "order\n",
      "disp\n"
     ]
    },
    {
     "name": "stderr",
     "output_type": "stream",
     "text": [
      "/anaconda3/lib/python3.6/site-packages/ipykernel_launcher.py:73: UserWarning: Boolean Series key will be reindexed to match DataFrame index.\n"
     ]
    },
    {
     "name": "stdout",
     "output_type": "stream",
     "text": [
      " 训练集样本量: 195 \n",
      " 测试集样本量: 84\n"
     ]
    }
   ],
   "source": [
    "import pandas as pd\n",
    "import os\n",
    "##########################################################################################################################################################################################\n",
    "# # 1 数据整理\n",
    "\n",
    "# ## 1.1导入数据\n",
    "\n",
    "# In[2]:\n",
    "os.chdir(\".//\")\n",
    "loanfile = os.listdir()\n",
    "createVar = locals()\n",
    "for i in loanfile:\n",
    "    if i.endswith(\"csv\"):        \n",
    "        createVar['t_'+ i.split('.')[0]] = pd.read_csv(i, encoding = 'gbk')\n",
    "        print(i.split('.')[0])\n",
    "\n",
    "\n",
    "# ## 1.2、生成被解释变量bad_good\n",
    "        \n",
    "# In[3]:\n",
    "\n",
    "bad_good = {'B':1, 'D':1, 'A':0, 'C': 2}\n",
    "t_loans['bad_good'] = t_loans.status.map(bad_good) \n",
    "# https://pandas.pydata.org/pandas-docs/stable/reference/api/pandas.Series.map.html\n",
    "\n",
    "t_loans.head()\n",
    "\n",
    "# ## 1.3、借款人的年龄、性别\n",
    "\n",
    "# In[4]:\n",
    "\n",
    "data2 = pd.merge(t_loans, t_disp, on = 'account_id', how = 'left') # ‘left’, ‘right’, ‘outer’, ‘inner’\n",
    "data2 = pd.merge(data2, t_clients, on = 'client_id', how = 'left')\n",
    "data2=data2[data2.type=='所有者']\n",
    "\n",
    "data2.head()\n",
    "# ## 1.4、借款人居住地的经济状况\n",
    "\n",
    "# In[5]:\n",
    "\n",
    "data3 = pd.merge(data2, t_district, left_on = 'district_id', right_on = 'A1', how = 'left')\n",
    "data3.head()\n",
    "\n",
    "# ## 1.5、贷款前一年内的账户平均余额、余额的标准差、变异系数、平均收入和平均支出的比例\n",
    "\n",
    "# In[6]:\n",
    "\n",
    "data_4temp1 = pd.merge(t_loans[['account_id', 'date']],\n",
    "                       t_trans[['account_id','type','amount','balance','date']],\n",
    "                       on = 'account_id')\n",
    "data_4temp1.columns = ['account_id', 'date', 'type', 'amount', 'balance', 't_date']\n",
    "data_4temp1 = data_4temp1.sort_values(by = ['account_id','t_date'])\n",
    "\n",
    "data_4temp1['date']=pd.to_datetime(data_4temp1['date'])\n",
    "data_4temp1['t_date']=pd.to_datetime(data_4temp1['t_date'])\n",
    "data_4temp1.tail()\n",
    "\n",
    "# ## 将对账户余额进行清洗\n",
    "# In[9]:\n",
    "\n",
    "data_4temp1['balance2'] = data_4temp1['balance'].map(\n",
    "    lambda x: int(''.join(x[1:].split(','))))\n",
    "data_4temp1['amount2'] = data_4temp1['amount'].map(\n",
    "    lambda x: int(''.join(x[1:].split(','))))\n",
    "\n",
    "data_4temp1.head()\n",
    "\n",
    "# ## 根据取数窗口提取交易数据--选取贷款放款日之前一年的交易信息！\n",
    "# In[10]:\n",
    "\n",
    "import datetime\n",
    "data_4temp2 = data_4temp1[data_4temp1.date>data_4temp1.t_date][\n",
    "    data_4temp1.date<data_4temp1.t_date+datetime.timedelta(days=365)]\n",
    "data_4temp2.tail()\n",
    "\n",
    "# ### 1.5.1账户平均余额、余额的标准差、变异系数\n",
    "\n",
    "# In[11]:\n",
    "\n",
    "data_4temp3 = data_4temp2.groupby('account_id')['balance2'].agg([('avg_balance','mean'), ('stdev_balance','std')])\n",
    "data_4temp3['cv_balance'] = data_4temp3[['avg_balance','stdev_balance']].apply(lambda x: x[1]/x[0],axis = 1)\n",
    "#https://pandas.pydata.org/pandas-docs/version/0.17.0/generated/pandas.Series.apply.html\n",
    "\n",
    "data_4temp3['cv_balance2'] = data_4temp3['stdev_balance'] / data_4temp3['avg_balance']\n",
    "\n",
    "data_4temp3.head()\n",
    "\n",
    "# ### 1.5.2 平均支出和平均收入的比例\n",
    "# In[12]:\n",
    "\n",
    "type_dict = {'借':'out','贷':'income'}\n",
    "data_4temp2['type1'] = data_4temp2.type.map(type_dict)\n",
    "data_4temp4 = data_4temp2.groupby(['account_id','type1'])[['amount2']].sum()\n",
    "data_4temp4.head()\n",
    "\n",
    "\n",
    "# In[13]:\n",
    "\n",
    "data_4temp5 = pd.pivot_table(\n",
    "    data_4temp4, values = 'amount2', \n",
    "    index = 'account_id', columns = 'type1')\n",
    "# https://pandas.pydata.org/pandas-docs/version/0.22/generated/pandas.pivot_table.html\n",
    "\n",
    "data_4temp5.fillna(0, inplace = True)\n",
    "data_4temp5['r_out_in'] = data_4temp5[\n",
    "    ['out','income']].apply(lambda x: x[0]/x[1], axis = 1)\n",
    "data_4temp5.head()\n",
    "\n",
    "\n",
    "# In[14]:\n",
    "\n",
    "data4 = pd.merge(data3, data_4temp3, left_on='account_id', right_index= True, how = 'left')\n",
    "data4 = pd.merge(data4, data_4temp5, left_on='account_id', right_index= True, how = 'left')\n",
    "\n",
    "data4.head()\n",
    "# ## 1.6、计算贷存比，贷收比\n",
    "\n",
    "# In[15]:\n",
    "\n",
    "data4['r_lb'] = data4[['amount','avg_balance']].apply(lambda x: x[0]/x[1],axis = 1)\n",
    "data4['r_lincome'] = data4[['amount','income']].apply(lambda x: x[0]/x[1],axis = 1)\n",
    "\n",
    "data4.head()\n",
    "# In[17]:\n",
    "##########################################################################################################################################################################################\n",
    "# # 2 构建Logistic模型\n",
    "data4.columns\n",
    "# •提取状态为C的用于预测。其它样本随机抽样，建立训练集与测试集\n",
    "\n",
    "# In[17]:\n",
    "\n",
    "data_model=data4[data4.status!='C']\n",
    "for_predict=data4[data4.status=='C']\n",
    "\n",
    "# 利用sample划分\n",
    "train = data_model.sample(frac=0.7, random_state=1235).copy()\n",
    "test = data_model[~ data_model.index.isin(train.index)].copy()\n",
    "print(' 训练集样本量: %i \\n 测试集样本量: %i' %(len(train), len(test)))\n",
    "\n",
    "candidates = ['bad_good', 'A1', 'GDP', 'A4', 'A10', 'A11', 'A12','amount', 'duration',\n",
    "       'A13', 'A14', 'A15', 'a16', 'avg_balance', 'stdev_balance',\n",
    "       'cv_balance', 'income', 'out', 'r_out_in', 'r_lb', 'r_lincome']\n",
    "data_for_select = train[candidates]\n"
   ]
  },
  {
   "cell_type": "markdown",
   "metadata": {},
   "source": [
    "# 向前"
   ]
  },
  {
   "cell_type": "code",
   "execution_count": 2,
   "metadata": {
    "ExecuteTime": {
     "end_time": "2019-09-03T04:35:17.718862Z",
     "start_time": "2019-09-03T04:35:15.426681Z"
    }
   },
   "outputs": [],
   "source": [
    "import statsmodels.api as sm\n",
    "import statsmodels.formula.api as smf\n",
    "\n",
    "# 过滤式特征选择---前向选择(forward selection)和后向淘汰(backward elimination)\n",
    "def forward_select(data, response):\n",
    "\n",
    "    remaining = set(data.columns)\n",
    "    remaining.remove(response)\n",
    "    selected = []\n",
    "    current_score, best_new_score = float('inf'), float('inf')\n",
    "    while remaining:\n",
    "        aic_with_candidates=[]\n",
    "        for candidate in remaining:\n",
    "            formula = \"{} ~ {}\".format(\n",
    "                response,' + '.join(selected + [candidate]))\n",
    "            aic = smf.glm(\n",
    "                formula=formula, data=data, \n",
    "                family=sm.families.Binomial(sm.families.links.logit)\n",
    "            ).fit().aic\n",
    "            aic_with_candidates.append((aic, candidate))\n",
    "        aic_with_candidates.sort(reverse=True)\n",
    "        best_new_score, best_candidate=aic_with_candidates.pop()\n",
    "        if current_score > best_new_score: \n",
    "            remaining.remove(best_candidate)\n",
    "            selected.append(best_candidate)\n",
    "            current_score = best_new_score\n",
    "            print ('aic is {},continuing!'.format(current_score))\n",
    "        else:        \n",
    "            print ('forward selection over!')\n",
    "            break\n",
    "            \n",
    "    formula = \"{} ~ {} \".format(response,' + '.join(selected))\n",
    "    print('final formula is {}'.format(formula))\n",
    "    model = smf.glm(\n",
    "        formula=formula, data=data, \n",
    "        family=sm.families.Binomial(sm.families.links.logit)\n",
    "    ).fit()\n",
    "    return(model)"
   ]
  },
  {
   "cell_type": "code",
   "execution_count": 3,
   "metadata": {
    "ExecuteTime": {
     "end_time": "2019-09-03T04:35:32.790902Z",
     "start_time": "2019-09-03T04:35:31.456465Z"
    }
   },
   "outputs": [
    {
     "name": "stdout",
     "output_type": "stream",
     "text": [
      "aic is 167.43311432504638,continuing!\n",
      "aic is 135.8243585604184,continuing!\n",
      "forward selection over!\n",
      "final formula is bad_good ~ r_lb + cv_balance \n"
     ]
    },
    {
     "data": {
      "image/png": "[encoded data removed]",
      "text/plain": [
       "<Figure size 432x432 with 1 Axes>"
      ]
     },
     "metadata": {},
     "output_type": "display_data"
    },
    {
     "name": "stdout",
     "output_type": "stream",
     "text": [
      "AUC = 0.8846\n"
     ]
    }
   ],
   "source": [
    "lg_m1 = forward_select(data=data_for_select, response='bad_good')\n",
    "lg_m1.summary().tables[1]\n",
    "\n",
    "# In[24]:\n",
    "\n",
    "import sklearn.metrics as metrics\n",
    "import matplotlib.pyplot as plt\n",
    "fpr, tpr, th = metrics.roc_curve(test.bad_good, lg_m1.predict(test))\n",
    "plt.figure(figsize=[6, 6])\n",
    "plt.plot(fpr, tpr, 'b--')\n",
    "plt.title('ROC curve')\n",
    "plt.show()\n",
    "\n",
    "\n",
    "# In[25]:\n",
    "\n",
    "print('AUC = %.4f' %metrics.auc(fpr, tpr))"
   ]
  },
  {
   "cell_type": "code",
   "execution_count": 4,
   "metadata": {
    "ExecuteTime": {
     "end_time": "2019-09-03T04:41:53.069903Z",
     "start_time": "2019-09-03T04:41:53.039958Z"
    }
   },
   "outputs": [],
   "source": [
    "family=sm.families.Binomial(sm.families.links.logit)"
   ]
  },
  {
   "cell_type": "markdown",
   "metadata": {
    "ExecuteTime": {
     "end_time": "2019-09-03T04:42:03.562269Z",
     "start_time": "2019-09-03T04:42:03.550971Z"
    }
   },
   "source": [
    "# sklearn"
   ]
  },
  {
   "cell_type": "code",
   "execution_count": 75,
   "metadata": {
    "ExecuteTime": {
     "end_time": "2019-09-03T06:09:38.732418Z",
     "start_time": "2019-09-03T06:09:38.722933Z"
    }
   },
   "outputs": [],
   "source": [
    "from sklearn.model_selection import train_test_split\n",
    "\n",
    "dataUse1  = data_model[candidates].copy()\n",
    "del dataUse1['bad_good']\n",
    "dataUse1.fillna(0, inplace=True)\n",
    "y = data_model['bad_good']\n",
    "\n"
   ]
  },
  {
   "cell_type": "code",
   "execution_count": 88,
   "metadata": {
    "ExecuteTime": {
     "end_time": "2019-09-03T06:16:43.949509Z",
     "start_time": "2019-09-03T06:16:43.940055Z"
    }
   },
   "outputs": [],
   "source": [
    "from sklearn.preprocessing import scale\n",
    "from sklearn.preprocessing import StandardScaler\n",
    "\n",
    "dataUse = scale(dataUse1)\n",
    "#dataUse = StandardScalr().fit_transform(dataUse1)"
   ]
  },
  {
   "cell_type": "code",
   "execution_count": 160,
   "metadata": {
    "ExecuteTime": {
     "end_time": "2019-09-03T06:47:01.769968Z",
     "start_time": "2019-09-03T06:47:01.758937Z"
    }
   },
   "outputs": [],
   "source": [
    "dataUse = dataUse1"
   ]
  },
  {
   "cell_type": "code",
   "execution_count": 161,
   "metadata": {
    "ExecuteTime": {
     "end_time": "2019-09-03T06:47:07.743530Z",
     "start_time": "2019-09-03T06:47:07.727755Z"
    }
   },
   "outputs": [],
   "source": [
    "train_X, test_X, train_y, test_y = train_test_split(dataUse, y, test_size=0.3, random_state=12)\n",
    "#### 分开X,y---train\n",
    "#cols = data_model.columns.values\n",
    "#X = data_model[ cols[(cols!='bad_good')&(cols!='date')&(cols!='birth_date')&(cols!='sex')&(cols!='type')&(cols!='status')] ]\n",
    "# X = data_model[candidates]\n",
    "# X.fillna(0, inplace=True)\n",
    "# X_train, X_test, y_train, y_test = train_test_split(X, y, test_size=0.3, random_state=1235)\n",
    "\n",
    "#https://scikit-learn.org/stable/modules/generated/sklearn.model_selection.train_test_split.html"
   ]
  },
  {
   "cell_type": "code",
   "execution_count": 162,
   "metadata": {
    "ExecuteTime": {
     "end_time": "2019-09-03T06:47:13.370418Z",
     "start_time": "2019-09-03T06:47:13.355707Z"
    }
   },
   "outputs": [
    {
     "data": {
      "text/plain": [
       "((195, 20), (195,), (84, 20), (84,))"
      ]
     },
     "execution_count": 162,
     "metadata": {},
     "output_type": "execute_result"
    }
   ],
   "source": [
    "train_X.shape, train_y.shape, test_X.shape, test_y.shape"
   ]
  },
  {
   "cell_type": "code",
   "execution_count": 92,
   "metadata": {
    "ExecuteTime": {
     "end_time": "2019-09-03T06:17:41.387568Z",
     "start_time": "2019-09-03T06:17:41.375156Z"
    }
   },
   "outputs": [
    {
     "data": {
      "text/plain": [
       "array([[-0.62966992, -0.52353495, -0.59566612, ...,  1.36717573,\n",
       "         0.63332892,  0.16144391],\n",
       "       [ 0.6696064 , -0.29411519, -0.32262971, ..., -0.29427561,\n",
       "        -0.4713176 , -0.25668922],\n",
       "       [-0.86590197, -0.51012671, -0.49731799, ...,  1.19101939,\n",
       "         0.04159052, -0.08416051],\n",
       "       ...,\n",
       "       [-0.94464599, -0.23933007, -0.26548809, ..., -0.02675228,\n",
       "         0.33244648, -0.1089618 ],\n",
       "       [ 0.59086238, -0.46255967, -0.45862201, ...,  0.33143526,\n",
       "        -0.43228733, -0.24948395],\n",
       "       [ 1.18144252, -0.29396834, -0.12387409, ...,  0.05317537,\n",
       "        -0.02580423,  0.02382534]])"
      ]
     },
     "execution_count": 92,
     "metadata": {},
     "output_type": "execute_result"
    }
   ],
   "source": [
    "train_X"
   ]
  },
  {
   "cell_type": "code",
   "execution_count": 166,
   "metadata": {
    "ExecuteTime": {
     "end_time": "2019-09-03T06:50:35.199519Z",
     "start_time": "2019-09-03T06:50:35.159655Z"
    }
   },
   "outputs": [],
   "source": [
    "#%%\n",
    "import matplotlib.pyplot as plt\n",
    "from sklearn.svm import SVC\n",
    "from sklearn.linear_model import LogisticRegression\n",
    "from sklearn.feature_selection import RFECV\n",
    "\n",
    "%matplotlib inline\n",
    "\n",
    "# Create the RFE object and compute a cross-validated score.\n",
    "#model = SVC(kernel=\"linear\")\n",
    "model = LogisticRegression()\n",
    "# The \"accuracy\" scoring is proportional to the number of correct\n",
    "# classifications\n",
    "rfecv = RFECV(estimator=model, step=1, cv=5, #StratifiedKFold(y, 2),\n",
    "              scoring='accuracy') #'accuracy, roc_auc\n"
   ]
  },
  {
   "cell_type": "code",
   "execution_count": 167,
   "metadata": {
    "ExecuteTime": {
     "end_time": "2019-09-03T06:50:42.133543Z",
     "start_time": "2019-09-03T06:50:42.120220Z"
    }
   },
   "outputs": [
    {
     "data": {
      "text/plain": [
       "RFECV(cv=5,\n",
       "   estimator=LogisticRegression(C=1.0, class_weight=None, dual=False, fit_intercept=True,\n",
       "          intercept_scaling=1, max_iter=100, multi_class='ovr', n_jobs=1,\n",
       "          penalty='l2', random_state=None, solver='liblinear', tol=0.0001,\n",
       "          verbose=0, warm_start=False),\n",
       "   n_jobs=1, scoring='accuracy', step=1, verbose=0)"
      ]
     },
     "execution_count": 167,
     "metadata": {},
     "output_type": "execute_result"
    }
   ],
   "source": [
    "rfecv"
   ]
  },
  {
   "cell_type": "code",
   "execution_count": 168,
   "metadata": {
    "ExecuteTime": {
     "end_time": "2019-09-03T06:50:50.035040Z",
     "start_time": "2019-09-03T06:50:49.777146Z"
    }
   },
   "outputs": [
    {
     "data": {
      "text/plain": [
       "RFECV(cv=5,\n",
       "   estimator=LogisticRegression(C=1.0, class_weight=None, dual=False, fit_intercept=True,\n",
       "          intercept_scaling=1, max_iter=100, multi_class='ovr', n_jobs=1,\n",
       "          penalty='l2', random_state=None, solver='liblinear', tol=0.0001,\n",
       "          verbose=0, warm_start=False),\n",
       "   n_jobs=1, scoring='accuracy', step=1, verbose=0)"
      ]
     },
     "execution_count": 168,
     "metadata": {},
     "output_type": "execute_result"
    }
   ],
   "source": [
    "rfecv.fit(train_X, train_y)"
   ]
  },
  {
   "cell_type": "raw",
   "metadata": {},
   "source": []
  },
  {
   "cell_type": "code",
   "execution_count": 170,
   "metadata": {
    "ExecuteTime": {
     "end_time": "2019-09-03T06:51:53.650343Z",
     "start_time": "2019-09-03T06:51:53.433242Z"
    }
   },
   "outputs": [
    {
     "name": "stdout",
     "output_type": "stream",
     "text": [
      "Optimal number of features : 13\n"
     ]
    },
    {
     "data": {
      "image/png": "[encoded data removed]",
      "text/plain": [
       "<Figure size 432x288 with 1 Axes>"
      ]
     },
     "metadata": {},
     "output_type": "display_data"
    }
   ],
   "source": [
    "print(\"Optimal number of features : %d\" % rfecv.n_features_)\n",
    "\n",
    "# Plot number of features VS. cross-validation scores\n",
    "plt.figure()\n",
    "plt.xlabel(\"Number of features selected\")\n",
    "plt.ylabel(\"Cross validation score (nb of correct classifications)\")\n",
    "plt.plot(range(1, len(rfecv.grid_scores_) + 1), rfecv.grid_scores_)\n",
    "plt.show()"
   ]
  },
  {
   "cell_type": "code",
   "execution_count": 171,
   "metadata": {
    "ExecuteTime": {
     "end_time": "2019-09-03T06:52:30.073687Z",
     "start_time": "2019-09-03T06:52:30.064822Z"
    }
   },
   "outputs": [
    {
     "data": {
      "text/plain": [
       "array([1, 1, 1, 1, 1, 4, 1, 1, 3, 1, 5, 1, 1, 1, 8, 7, 1, 6, 1, 2])"
      ]
     },
     "execution_count": 171,
     "metadata": {},
     "output_type": "execute_result"
    }
   ],
   "source": [
    "rfecv.ranking_"
   ]
  },
  {
   "cell_type": "code",
   "execution_count": 172,
   "metadata": {
    "ExecuteTime": {
     "end_time": "2019-09-03T06:52:36.886084Z",
     "start_time": "2019-09-03T06:52:36.875923Z"
    }
   },
   "outputs": [
    {
     "data": {
      "text/plain": [
       "array([ True,  True,  True,  True,  True, False,  True,  True, False,\n",
       "        True, False,  True,  True,  True, False, False,  True, False,\n",
       "        True, False])"
      ]
     },
     "execution_count": 172,
     "metadata": {},
     "output_type": "execute_result"
    }
   ],
   "source": [
    "rfecv.support_"
   ]
  },
  {
   "cell_type": "code",
   "execution_count": 173,
   "metadata": {
    "ExecuteTime": {
     "end_time": "2019-09-03T06:52:44.148656Z",
     "start_time": "2019-09-03T06:52:44.134689Z"
    }
   },
   "outputs": [
    {
     "data": {
      "text/plain": [
       "(13, array([0.76923077, 0.77435897, 0.74871795, 0.81538462, 0.80512821,\n",
       "        0.85128205, 0.83589744, 0.83589744, 0.84102564, 0.85641026,\n",
       "        0.85641026, 0.86153846, 0.86666667, 0.86153846, 0.86153846,\n",
       "        0.86153846, 0.86153846, 0.86153846, 0.86153846, 0.86153846]))"
      ]
     },
     "execution_count": 173,
     "metadata": {},
     "output_type": "execute_result"
    }
   ],
   "source": [
    "rfecv.n_features_, rfecv.grid_scores_"
   ]
  },
  {
   "cell_type": "code",
   "execution_count": 174,
   "metadata": {
    "ExecuteTime": {
     "end_time": "2019-09-03T06:53:07.529796Z",
     "start_time": "2019-09-03T06:53:07.517545Z"
    }
   },
   "outputs": [
    {
     "data": {
      "text/plain": [
       "0.8615384615384616"
      ]
     },
     "execution_count": 174,
     "metadata": {},
     "output_type": "execute_result"
    }
   ],
   "source": [
    "rfecv.score(train_X, train_y)"
   ]
  },
  {
   "cell_type": "code",
   "execution_count": 175,
   "metadata": {
    "ExecuteTime": {
     "end_time": "2019-09-03T06:53:15.269017Z",
     "start_time": "2019-09-03T06:53:15.254473Z"
    }
   },
   "outputs": [
    {
     "data": {
      "text/plain": [
       "0.8333333333333334"
      ]
     },
     "execution_count": 175,
     "metadata": {},
     "output_type": "execute_result"
    }
   ],
   "source": [
    "rfecv.score(test_X, test_y)"
   ]
  },
  {
   "cell_type": "code",
   "execution_count": 150,
   "metadata": {
    "ExecuteTime": {
     "end_time": "2019-09-03T06:42:06.763376Z",
     "start_time": "2019-09-03T06:42:06.752713Z"
    }
   },
   "outputs": [
    {
     "data": {
      "text/plain": [
       "Index(['A1', 'GDP', 'A4', 'A10', 'A11', 'A12', 'amount', 'duration', 'A13',\n",
       "       'A14', 'A15', 'a16', 'avg_balance', 'stdev_balance', 'cv_balance',\n",
       "       'income', 'out', 'r_out_in', 'r_lb', 'r_lincome'],\n",
       "      dtype='object')"
      ]
     },
     "execution_count": 150,
     "metadata": {},
     "output_type": "execute_result"
    }
   ],
   "source": [
    "dataUse1.columns"
   ]
  },
  {
   "cell_type": "code",
   "execution_count": null,
   "metadata": {},
   "outputs": [],
   "source": []
  }
 ],
 "metadata": {
  "kernelspec": {
   "display_name": "Python 3",
   "language": "python",
   "name": "python3"
  },
  "language_info": {
   "codemirror_mode": {
    "name": "ipython",
    "version": 3
   },
   "file_extension": ".py",
   "mimetype": "text/x-python",
   "name": "python",
   "nbconvert_exporter": "python",
   "pygments_lexer": "ipython3",
   "version": "3.7.3"
  },
  "toc": {
   "base_numbering": 1,
   "nav_menu": {},
   "number_sections": true,
   "sideBar": true,
   "skip_h1_title": false,
   "title_cell": "Table of Contents",
   "title_sidebar": "Contents",
   "toc_cell": false,
   "toc_position": {},
   "toc_section_display": true,
   "toc_window_display": false
  },
  "varInspector": {
   "cols": {
    "lenName": 16,
    "lenType": 16,
    "lenVar": 40
   },
   "kernels_config": {
    "python": {
     "delete_cmd_postfix": "",
     "delete_cmd_prefix": "del ",
     "library": "var_list.py",
     "varRefreshCmd": "print(var_dic_list())"
    },
    "r": {
     "delete_cmd_postfix": ") ",
     "delete_cmd_prefix": "rm(",
     "library": "var_list.r",
     "varRefreshCmd": "cat(var_dic_list()) "
    }
   },
   "types_to_exclude": [
    "module",
    "function",
    "builtin_function_or_method",
    "instance",
    "_Feature"
   ],
   "window_display": false
  }
 },
 "nbformat": 4,
 "nbformat_minor": 2
}
